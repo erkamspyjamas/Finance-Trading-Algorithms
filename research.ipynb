{
 "cells": [
  {
   "cell_type": "code",
   "execution_count": 1,
   "metadata": {},
   "outputs": [
    {
     "ename": "ModuleNotFoundError",
     "evalue": "No module named 'matplotlib'",
     "output_type": "error",
     "traceback": [
      "\u001b[1;31m---------------------------------------------------------------------------\u001b[0m",
      "\u001b[1;31mModuleNotFoundError\u001b[0m                       Traceback (most recent call last)",
      "Cell \u001b[1;32mIn[1], line 1\u001b[0m\n\u001b[1;32m----> 1\u001b[0m \u001b[39mimport\u001b[39;00m \u001b[39mmatplotlib\u001b[39;00m\u001b[39m.\u001b[39;00m\u001b[39mpyplot\u001b[39;00m \u001b[39mas\u001b[39;00m \u001b[39mplt\u001b[39;00m\n\u001b[0;32m      2\u001b[0m \u001b[39mimport\u001b[39;00m \u001b[39mnumpy\u001b[39;00m \u001b[39mas\u001b[39;00m \u001b[39mnp\u001b[39;00m\n",
      "\u001b[1;31mModuleNotFoundError\u001b[0m: No module named 'matplotlib'"
     ]
    }
   ],
   "source": [
    "import matplotlib.pyplot as plt\n",
    "import numpy as np"
   ]
  },
  {
   "cell_type": "code",
   "execution_count": null,
   "metadata": {},
   "outputs": [],
   "source": [
    "qb = QuantBook()"
   ]
  },
  {
   "attachments": {},
   "cell_type": "markdown",
   "metadata": {},
   "source": [
    "Add data for selected financial stocks"
   ]
  },
  {
   "cell_type": "code",
   "execution_count": null,
   "metadata": {},
   "outputs": [],
   "source": [
    "tickers = [\"JPM\", \"BAC\", \"MS\", \"SCHW\", \"GS\", \"AXP\", \"C\"] # Financials\n",
    "symbols = [qb.AddEquity(ticker, Resolution.Daily).Symbol for ticker in tickers]"
   ]
  },
  {
   "attachments": {},
   "cell_type": "markdown",
   "metadata": {},
   "source": [
    "Get Price to Earnings Ratio data"
   ]
  },
  {
   "cell_type": "code",
   "execution_count": null,
   "metadata": {},
   "outputs": [],
   "source": [
    "pe_ratios = qb.GetFundamental(symbols, \n",
    "                              \"ValuationRatios.PERatio\", \n",
    "                              datetime(2021, 1, 1),\n",
    "                              datetime(2022, 1, 1))\n",
    "pe_ratios.head()"
   ]
  },
  {
   "attachments": {},
   "cell_type": "markdown",
   "metadata": {},
   "source": [
    "Rename columns for better readability"
   ]
  },
  {
   "cell_type": "code",
   "execution_count": null,
   "metadata": {},
   "outputs": [],
   "source": [
    "pe_ratios.columns = [\"American Express\", \"JPMorgan\", \"Goldman Sachs\", \"Morgan Stanley\", \"Bank of America\", \"Schwab\", \"Citigroup\"]"
   ]
  },
  {
   "attachments": {},
   "cell_type": "markdown",
   "metadata": {},
   "source": [
    "Plot PE-Ratio over time"
   ]
  },
  {
   "cell_type": "code",
   "execution_count": null,
   "metadata": {},
   "outputs": [],
   "source": [
    "pe_ratios.plot(figsize=(16, 8), title=\"PE Ratio Over Time\")\n",
    "plt.xlabel(\"Time\")\n",
    "plt.ylabel(\"PE Ratio\")\n",
    "plt.show()"
   ]
  },
  {
   "attachments": {},
   "cell_type": "markdown",
   "metadata": {},
   "source": [
    "Compare average PE-Ratio"
   ]
  },
  {
   "cell_type": "code",
   "execution_count": null,
   "metadata": {},
   "outputs": [],
   "source": [
    "mean_pe = pe_ratios.mean()\n",
    "mean_pe.sort_values()"
   ]
  },
  {
   "attachments": {},
   "cell_type": "markdown",
   "metadata": {},
   "source": [
    "Add price data for the symbols"
   ]
  },
  {
   "cell_type": "code",
   "execution_count": null,
   "metadata": {},
   "outputs": [],
   "source": [
    "history = qb.History(symbols, \n",
    "                     datetime(2021, 1, 1),\n",
    "                     datetime(2022, 1, 1),\n",
    "                     Resolution.Daily).close.unstack(level=0)\n",
    "history.columns = [\"American Express\", \"JPMorgan\", \"Goldman Sachs\", \"Morgan Stanley\", \"Bank of America\", \"Schwab\", \"Citigroup\"]\n",
    "history.head()"
   ]
  },
  {
   "attachments": {},
   "cell_type": "markdown",
   "metadata": {},
   "source": [
    "Plot returns over time"
   ]
  },
  {
   "cell_type": "code",
   "execution_count": null,
   "metadata": {},
   "outputs": [],
   "source": [
    "returns_over_time = ((history.pct_change()[1:] + 1).cumprod() - 1)\n",
    "returns_over_time.plot(figsize=(16, 8), title=\"Returns Over Time\")\n",
    "plt.grid()\n",
    "plt.ylabel(\"Return\")\n",
    "plt.show()"
   ]
  },
  {
   "attachments": {},
   "cell_type": "markdown",
   "metadata": {},
   "source": [
    "Correlation Matrix"
   ]
  },
  {
   "cell_type": "code",
   "execution_count": null,
   "metadata": {},
   "outputs": [],
   "source": [
    "np.corrcoef(returns_over_time.tail(1), mean_pe)"
   ]
  },
  {
   "attachments": {},
   "cell_type": "markdown",
   "metadata": {},
   "source": [
    "Scatter Plot"
   ]
  },
  {
   "cell_type": "code",
   "execution_count": null,
   "metadata": {},
   "outputs": [],
   "source": [
    "plt.figure(figsize=(10,7))\n",
    "plt.scatter(returns_over_time.tail(1), mean_pe)\n",
    "plt.title(\"2021 Returns / PERatio\")\n",
    "plt.xlabel(\"2021 Returns\")\n",
    "plt.ylabel(\"Mean PERatio 2021\")\n",
    "plt.grid()\n",
    "plt.show()"
   ]
  },
  {
   "attachments": {},
   "cell_type": "markdown",
   "metadata": {},
   "source": [
    "### Add Options Data"
   ]
  },
  {
   "cell_type": "code",
   "execution_count": null,
   "metadata": {},
   "outputs": [],
   "source": [
    "bac = qb.AddOption(\"BAC\")\n",
    "bac.SetFilter(-5, 5, timedelta(20), timedelta(50))"
   ]
  },
  {
   "cell_type": "code",
   "execution_count": null,
   "metadata": {},
   "outputs": [],
   "source": [
    "option_history = qb.GetOptionHistory(bac.Symbol, datetime(2021, 1, 1), datetime(2021, 1, 10))\n",
    "print (option_history.GetStrikes())\n",
    "print (option_history.GetExpiryDates())\n",
    "option_history.GetAllData()"
   ]
  },
  {
   "attachments": {},
   "cell_type": "markdown",
   "metadata": {},
   "source": [
    "### Add Indicators"
   ]
  },
  {
   "cell_type": "code",
   "execution_count": null,
   "metadata": {},
   "outputs": [],
   "source": [
    "# Example with BB, it is a datapoint indicator\n",
    "# Define the indicator\n",
    "bb = BollingerBands(30, 2) # 30 day MA +/- 2 std deviation\n",
    "\n",
    "# Gets historical data of indicator\n",
    "bbdf = qb.Indicator(bb, \"BAC\", 360, Resolution.Daily, Field.Open)\n",
    "\n",
    "bbdf.plot(figsize=(16, 8), title=\"BAC Bollinger Bands\", grid=1)"
   ]
  },
  {
   "cell_type": "code",
   "execution_count": null,
   "metadata": {},
   "outputs": [],
   "source": [
    "# drop undesired fields\n",
    "bbdf = bbdf.drop([\"standarddeviation\", \"percentb\", \"bandwidth\"], 1)"
   ]
  },
  {
   "cell_type": "code",
   "execution_count": null,
   "metadata": {},
   "outputs": [],
   "source": [
    "bbdf.plot(figsize=(16, 8), title=\"BAC Bollinger Bands\", grid=1)"
   ]
  },
  {
   "attachments": {},
   "cell_type": "markdown",
   "metadata": {},
   "source": [
    "#### Linear Regression"
   ]
  },
  {
   "cell_type": "code",
   "execution_count": null,
   "metadata": {},
   "outputs": [],
   "source": [
    "from sklearn.linear_model import LinearRegression"
   ]
  },
  {
   "cell_type": "code",
   "execution_count": null,
   "metadata": {},
   "outputs": [],
   "source": [
    "history = qb.History(qb.Symbol(\"BAC\"), 60, Resolution.Daily)"
   ]
  },
  {
   "cell_type": "code",
   "execution_count": null,
   "metadata": {},
   "outputs": [],
   "source": [
    "# Drop the symbol index from multi-index dataframe\n",
    "history = history.reset_index(level=0, drop=True)\n",
    "\n",
    "# Get list of 60 days of open prices from dataframe\n",
    "prices = list(history['close'])"
   ]
  },
  {
   "attachments": {},
   "cell_type": "markdown",
   "metadata": {},
   "source": [
    "we use bollinger bands middle band (SMA based on open price) as input to predict closing price"
   ]
  },
  {
   "cell_type": "code",
   "execution_count": null,
   "metadata": {},
   "outputs": [],
   "source": [
    "# Format time series data into form compatible with LinearRegression\n",
    "train_X = np.asarray(bbdf[\"middleband\"][-60:-30]).reshape(30,1)\n",
    "\n",
    "# First 30 days of price data used for training\n",
    "train_Y = prices[:30]\n",
    "\n",
    "# Define LinearRegression model from scikit\n",
    "reg = LinearRegression()\n",
    "\n",
    "# Fit model with training data\n",
    "reg.fit(train_X, train_Y)"
   ]
  },
  {
   "cell_type": "code",
   "execution_count": null,
   "metadata": {},
   "outputs": [],
   "source": [
    "# Format time series data\n",
    "test_X = np.asarray(bbdf[\"middleband\"][-60:]).reshape(60,1)\n",
    "\n",
    "# Use linear regression model to predict prices\n",
    "prices_pred = reg.predict(test_X)"
   ]
  },
  {
   "cell_type": "code",
   "execution_count": null,
   "metadata": {},
   "outputs": [],
   "source": [
    "plt.figure(figsize=(10,7))\n",
    "\n",
    "# The first 30 days of price data used to train model\n",
    "plt.scatter(bbdf[\"middleband\"][-60:-30], prices[:30], color='blue')\n",
    "\n",
    "# The next 30 days of price data\n",
    "plt.scatter(bbdf[\"middleband\"][-30:], prices[30:60], color=\"green\")\n",
    "\n",
    "# The linear regression model\n",
    "plt.plot(bbdf[\"middleband\"][-60:], prices_pred, color='red', linewidth=1)\n",
    "plt.xlabel(\"Middleband\")\n",
    "plt.ylabel(\"Closing Price\")\n",
    "plt.show()"
   ]
  }
 ],
 "metadata": {
  "kernelspec": {
   "display_name": "Python 3",
   "language": "python",
   "name": "python3"
  },
  "language_info": {
   "codemirror_mode": {
    "name": "ipython",
    "version": 3
   },
   "file_extension": ".py",
   "mimetype": "text/x-python",
   "name": "python",
   "nbconvert_exporter": "python",
   "pygments_lexer": "ipython3",
   "version": "3.8.16"
  },
  "orig_nbformat": 4
 },
 "nbformat": 4,
 "nbformat_minor": 2
}
